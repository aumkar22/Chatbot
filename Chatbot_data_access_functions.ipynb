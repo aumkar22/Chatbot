{
 "cells": [
  {
   "cell_type": "code",
   "execution_count": 1,
   "metadata": {},
   "outputs": [],
   "source": [
    "import os\n",
    "import sys\n",
    "import time\n",
    "import glob\n",
    "import inspect\n",
    "import numpy as np\n",
    "import hdf5_getters as GETTERS\n",
    "import hdf5_descriptors as DESC"
   ]
  },
  {
   "cell_type": "code",
   "execution_count": 2,
   "metadata": {},
   "outputs": [],
   "source": [
    "msd_subset_path='C:/Users/Rik/Documents/Radboud Universiteit/CCMLWI/Assignment4/MillionSongSubset/'\n",
    "msd_subset_data_path=os.path.join(msd_subset_path,'data')\n",
    "msd_subset_addf_path=os.path.join(msd_subset_path,'AdditionalFiles')\n",
    "subset = 'C:/Users/Rik/Documents/Radboud Universiteit/CCMLWI/Assignment4/MillionSongSubset/AdditionalFiles/subset_msd_summary_file.h5'\n",
    "assert os.path.isdir(msd_subset_path),'wrong path'"
   ]
  },
  {
   "cell_type": "code",
   "execution_count": 3,
   "metadata": {},
   "outputs": [],
   "source": [
    "msd_code_path='C:/Users/Rik/Documents/GitHub/MillionSongs/MSongsDB'\n",
    "assert os.path.isdir(msd_code_path),'wrong path'"
   ]
  },
  {
   "cell_type": "code",
   "execution_count": 4,
   "metadata": {},
   "outputs": [],
   "source": [
    "sys.path.append(os.path.join(msd_code_path,'PythonSrc'))"
   ]
  },
  {
   "cell_type": "code",
   "execution_count": 5,
   "metadata": {},
   "outputs": [],
   "source": [
    "def apply_to_all_files(basedir, ext='.h5'):\n",
    "    cnt = 0\n",
    "    # iterate over all files in all subdirectories\n",
    "    for root, dirs, files in os.walk(basedir):\n",
    "        files = glob.glob(os.path.join(root,'*'+ext))\n",
    "        # count files\n",
    "        cnt += len(files)\n",
    "        # apply function to all files\n",
    "        for f in files :\n",
    "            h5 = GETTERS.open_h5_file_read(f)\n",
    "            a_name = GETTERS.get_artist_name(h5)\n",
    " \n",
    "            if a_name == b'Rick Astley':\n",
    "                return a_name\n",
    "                break\n",
    "            else:\n",
    "                pass"
   ]
  },
  {
   "cell_type": "code",
   "execution_count": 6,
   "metadata": {},
   "outputs": [
    {
     "name": "stdout",
     "output_type": "stream",
     "text": [
      "Rick Astley\n"
     ]
    }
   ],
   "source": [
    "print(apply_to_all_files(msd_subset_data_path))"
   ]
  },
  {
   "cell_type": "code",
   "execution_count": 7,
   "metadata": {},
   "outputs": [
    {
     "name": "stdout",
     "output_type": "stream",
     "text": [
      "['song_id', 'song_hotttnesss', 'title', 'artist_playmeid', 'idx_similar_artists', 'artist_name', 'artist_7digitalid', 'release', 'artist_hotttnesss', 'artist_latitude', 'artist_location', 'analyzer_version', 'artist_familiarity', 'genre', 'artist_mbid', 'artist_id', 'artist_longitude', 'track_7digitalid', 'idx_artist_terms', 'release_7digitalid', 'key', 'mode_confidence', 'idx_tatums_start', 'key_confidence', 'energy', 'idx_segments_loudness_max', 'idx_beats_confidence', 'idx_segments_pitches', 'duration', 'time_signature_confidence', 'idx_segments_loudness_max_time', 'idx_sections_start', 'track_id', 'danceability', 'idx_segments_loudness_start', 'idx_sections_confidence', 'start_of_fade_out', 'idx_tatums_confidence', 'analysis_sample_rate', 'idx_bars_start', 'idx_bars_confidence', 'idx_segments_timbre', 'tempo', 'idx_segments_start', 'idx_beats_start', 'end_of_fade_in', 'audio_md5', 'idx_segments_confidence', 'mode', 'time_signature', 'loudness', 'idx_artist_mbtags', 'year']\n"
     ]
    }
   ],
   "source": [
    "MDmembers = inspect.getmembers(DESC.SongMetaData, lambda a:not(inspect.isroutine(a)))\n",
    "ALmembers = inspect.getmembers(DESC.SongAnalysis, lambda a:not(inspect.isroutine(a)))\n",
    "MBmembers = inspect.getmembers(DESC.SongMusicBrainz, lambda a:not(inspect.isroutine(a)))\n",
    "keys = MDmembers[5][1].keys() + ALmembers[5][1].keys() + MBmembers[5][1].keys()\n",
    "print(keys)"
   ]
  },
  {
   "cell_type": "code",
   "execution_count": null,
   "metadata": {},
   "outputs": [],
   "source": []
  }
 ],
 "metadata": {
  "anaconda-cloud": {},
  "kernelspec": {
   "display_name": "Python 2",
   "language": "python",
   "name": "python2"
  },
  "language_info": {
   "codemirror_mode": {
    "name": "ipython",
    "version": 2
   },
   "file_extension": ".py",
   "mimetype": "text/x-python",
   "name": "python",
   "nbconvert_exporter": "python",
   "pygments_lexer": "ipython2",
   "version": "2.7.14"
  }
 },
 "nbformat": 4,
 "nbformat_minor": 1
}
