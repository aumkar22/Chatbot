{
 "cells": [
  {
   "cell_type": "code",
   "execution_count": 1,
   "metadata": {},
   "outputs": [],
   "source": [
    "import nltk\n",
    "import time\n",
    "import re"
   ]
  },
  {
   "cell_type": "code",
   "execution_count": 2,
   "metadata": {
    "scrolled": true
   },
   "outputs": [],
   "source": [
    "def posTagSentence(inStr):\n",
    "    text = nltk.word_tokenize(inStr.lower())\n",
    "    return nltk.pos_tag(text)"
   ]
  },
  {
   "cell_type": "code",
   "execution_count": 3,
   "metadata": {},
   "outputs": [],
   "source": [
    "def nerTagSentence(tagList):\n",
    "    for el in range(0, len(tagList)):\n",
    "        if tagList[el][1] in ('JJ') or tagList[el][1] in ('NN'):\n",
    "            newTuple = (tagList[el][0].upper(), tagList[el][1])\n",
    "            tagList[el] = newTuple\n",
    "    return nltk.ne_chunk(tagList, binary = True)"
   ]
  },
  {
   "cell_type": "code",
   "execution_count": 4,
   "metadata": {},
   "outputs": [],
   "source": [
    "#Use this one to keep strings lowercase\n",
    "def nerTagSentence2(tagList):\n",
    "    return (nltk.ne_chunk(tagList, binary=True))"
   ]
  },
  {
   "cell_type": "code",
   "execution_count": 5,
   "metadata": {},
   "outputs": [],
   "source": [
    "def stripTags(inStr):\n",
    "    ex1 = re.sub(r'[^\\w]', ' ', s)"
   ]
  },
  {
   "cell_type": "code",
   "execution_count": 6,
   "metadata": {},
   "outputs": [],
   "source": [
    "def findSongToArtistQuery(taggedStr):\n",
    "    ex1 = re.compile('((who.*)?((sang|made)|(is.*(artist|singer|band).*of))|\\\n",
    "                     ((what|which).*)?(artist|SINGER|band) ?(sang|made|of)?)')\n",
    "    found = re.search(ex1, taggedStr)\n",
    "#     print(found)\n",
    "    if found is not None:\n",
    "#         print(taggedStr)\n",
    "#         print(found.span())\n",
    "#         print(taggedStr[found.span()[1]:])\n",
    "        return (re.sub(r'([^\\w\\s]|[A-Z])', '',taggedStr[found.span()[1]:])).lstrip().rstrip()\n",
    "    else:\n",
    "        return False\n",
    "    "
   ]
  },
  {
   "cell_type": "code",
   "execution_count": 7,
   "metadata": {
    "scrolled": true
   },
   "outputs": [
    {
     "name": "stdout",
     "output_type": "stream",
     "text": [
      "POS-TAGGED:  [('which', 'WDT'), ('artist', 'NN'), ('sang', 'NN'), ('bohemian', 'JJ'), ('rhapsody', 'NN'), ('?', '.')] \n",
      "\n",
      "NER-TAGGED:  (S which/WDT artist/NN sang/NN bohemian/JJ rhapsody/NN ?/.) \n",
      "\n",
      "Found query:  bohemian rhapsody\n"
     ]
    }
   ],
   "source": [
    "text = \"Which artist sang bohemian rhapsody?\"\n",
    "posTagged = posTagSentence(text)\n",
    "nerTagged = nerTagSentence2(posTagged)\n",
    "print(\"POS-TAGGED: \", posTagged, \"\\n\")\n",
    "parse_string = ' '.join(str(nerTagged).split())\n",
    "print(\"NER-TAGGED: \", parse_string, \"\\n\")\n",
    "print(\"Found query: \", findSongToArtistQuery(parse_string))"
   ]
  },
  {
   "cell_type": "code",
   "execution_count": 8,
   "metadata": {},
   "outputs": [],
   "source": [
    "#Hi and Hello are currently recognised as NNP's\n",
    "def initialiseChat():\n",
    "    print(\"Welcome to the music-chatbot. You can ask anything that has to do with music! Start your conversation by saying hello!\")\n",
    "    time.sleep(.3)\n",
    "    inStr = posTagSentence(input())\n",
    "    name = \"\"\n",
    "    for el in range (0, len(inStr)):\n",
    "        if inStr[el][1] == 'NNP':\n",
    "            name = \" \" + inStr[el][0]\n",
    "    print (\"Hello\" + name + \", What would you like to know?\")\n",
    "    continueChat()\n",
    "    "
   ]
  },
  {
   "cell_type": "code",
   "execution_count": 9,
   "metadata": {},
   "outputs": [],
   "source": [
    "#exitCheck function should still be defined\n",
    "def continueChat():\n",
    "    while True:\n",
    "        inStr = input()\n",
    "        if exitCheck(inStr.lower()):\n",
    "            print(\"Very well, I hope I could be of help.\")\n",
    "            break\n",
    "        else:\n",
    "            posTagged = posTagSentence(inStr)\n",
    "            nerTagged = nerTagSentence2(posTagged)\n",
    "            parse_string = ' '.join(str(nerTagged).split())\n",
    "            print(findSongToArtistQuery(parse_string))\n",
    "            print(\"Is there anything else I can help you with?\")\n",
    "        "
   ]
  },
  {
   "cell_type": "code",
   "execution_count": 10,
   "metadata": {},
   "outputs": [],
   "source": [
    "#Assumes inStr is already POS-tagged\n",
    "#Returns the predicate of what the question is about\n",
    "def detectQuestions(tagList):\n",
    "    start = 0\n",
    "    end = len(tagList)\n",
    "    for el in range(0, len(tagList)):\n",
    "        if tagList[el][1] == 'WP':\n",
    "            start = el + 1\n",
    "        if tagList[el][1] == '.' and tagList[el][0] == '?':\n",
    "            end = el\n",
    "    pred = tagList[start:end]\n",
    "    return pred"
   ]
  },
  {
   "cell_type": "code",
   "execution_count": 11,
   "metadata": {},
   "outputs": [],
   "source": [
    "def exitCheck(inStr):\n",
    "    negatives = [\"no\", \"nope\", \"n\", \"no thanks\", \"bye\"]\n",
    "    if inStr in negatives:\n",
    "        return True\n",
    "    else:\n",
    "        return False"
   ]
  },
  {
   "cell_type": "code",
   "execution_count": 12,
   "metadata": {},
   "outputs": [
    {
     "name": "stdout",
     "output_type": "stream",
     "text": [
      "Welcome to the music-chatbot. You can ask anything that has to do with music! Start your conversation by saying hello!\n",
      "hello!\n",
      "Hello, What would you like to know?\n",
      "who sang bohemian rhapsody?\n",
      "bohemian rhapsody\n",
      "Is there anything else I can help you with?\n",
      "no\n",
      "Very well, I hope I could be of help.\n"
     ]
    }
   ],
   "source": [
    "initialiseChat()"
   ]
  },
  {
   "cell_type": "code",
   "execution_count": 1,
   "metadata": {},
   "outputs": [
    {
     "name": "stdout",
     "output_type": "stream",
     "text": [
      "b'Hey'\n"
     ]
    }
   ],
   "source": [
    "s = b\"Hey\"\n",
    "print(s)"
   ]
  },
  {
   "cell_type": "code",
   "execution_count": null,
   "metadata": {},
   "outputs": [],
   "source": []
  }
 ],
 "metadata": {
  "kernelspec": {
   "display_name": "Python 3",
   "language": "python",
   "name": "python3"
  },
  "language_info": {
   "codemirror_mode": {
    "name": "ipython",
    "version": 3
   },
   "file_extension": ".py",
   "mimetype": "text/x-python",
   "name": "python",
   "nbconvert_exporter": "python",
   "pygments_lexer": "ipython3",
   "version": "3.6.4"
  }
 },
 "nbformat": 4,
 "nbformat_minor": 2
}
