{
 "cells": [
  {
   "cell_type": "code",
   "execution_count": 1,
   "metadata": {},
   "outputs": [
    {
     "ename": "ModuleNotFoundError",
     "evalue": "No module named 'settings'",
     "output_type": "error",
     "traceback": [
      "\u001b[1;31m---------------------------------------------------------------------------\u001b[0m",
      "\u001b[1;31mModuleNotFoundError\u001b[0m                       Traceback (most recent call last)",
      "\u001b[1;32m<ipython-input-1-0e52c81a5dbf>\u001b[0m in \u001b[0;36m<module>\u001b[1;34m()\u001b[0m\n\u001b[0;32m      2\u001b[0m \u001b[1;32mimport\u001b[0m \u001b[0mtime\u001b[0m\u001b[1;33m\u001b[0m\u001b[0m\n\u001b[0;32m      3\u001b[0m \u001b[1;32mimport\u001b[0m \u001b[0mre\u001b[0m\u001b[1;33m\u001b[0m\u001b[0m\n\u001b[1;32m----> 4\u001b[1;33m \u001b[1;32mimport\u001b[0m \u001b[0msettings\u001b[0m\u001b[1;33m\u001b[0m\u001b[0m\n\u001b[0m",
      "\u001b[1;31mModuleNotFoundError\u001b[0m: No module named 'settings'"
     ]
    }
   ],
   "source": [
    "import nltk\n",
    "import time\n",
    "import re\n",
    "import settings"
   ]
  },
  {
   "cell_type": "code",
   "execution_count": null,
   "metadata": {},
   "outputs": [],
   "source": [
    "h5 = settings.apply_to_all_files()"
   ]
  },
  {
   "cell_type": "code",
   "execution_count": null,
   "metadata": {
    "scrolled": true
   },
   "outputs": [],
   "source": [
    "def posTagSentence(inStr):\n",
    "    text = nltk.word_tokenize(inStr.lower())\n",
    "    return nltk.pos_tag(text)"
   ]
  },
  {
   "cell_type": "code",
   "execution_count": null,
   "metadata": {},
   "outputs": [],
   "source": [
    "def nerTagSentence(tagList):\n",
    "    return (nltk.ne_chunk(tagList, binary=True))"
   ]
  },
  {
   "cell_type": "code",
   "execution_count": null,
   "metadata": {},
   "outputs": [],
   "source": [
    "def findSongToArtistQuery(taggedStr):\n",
    "    #Regex for finding artist of a song\n",
    "    exStA = re.compile('((who.*)?((sang|made|sings)|(is.*(artist|singer|band).*(of|from|for))|\\\n",
    "                     ((what|which).*)?(artist|SINGER|band) ?(sang|made|of)?))')\n",
    "    #Regex for finding songs of an artist\n",
    "    exAtS = re.compile('(((what.*)|(which.*))?((song)s?.*?of.*?)|((song)s?.*?(did)))')\n",
    "    foundStA = re.search(exStA, taggedStr)\n",
    "    foundAtS = re.search(exAtS, taggedStr)\n",
    "    if foundStA is not None:\n",
    "        a = re.sub(r'([^\\w\\s]|[A-Z])', '',taggedStr[foundStA.span()[1]:]).lstrip().rstrip().title()\n",
    "        for i in range(len(h5)):\n",
    "            f = settings.GETTERS.open_h5_file_read(h5[i])\n",
    "            if settings.GETTERS.get_title(f) is a:\n",
    "                print(\"The artist you are looking for is: \", settings.GETTERS.get_song_name(f))\n",
    "                return True\n",
    "                f.close()\n",
    "                break\n",
    "            else:\n",
    "                f.close()\n",
    "                print(\"Artist not found\")\n",
    "                return False\n",
    "    elif foundAtS is not None:\n",
    "        s = re.sub(r'((did|write|sing|make)|[^\\w\\s]|[A-Z])', '',taggedStr[foundAtS.span()[1]:]).lstrip().rstrip().title()\n",
    "        for i in range(len(h5)):\n",
    "            f = settings.GETTERS.open_h5_file_read(h5[i])\n",
    "            if settings.GETTERS.get_artist_name(f) is s:\n",
    "                print(\"One of their songs is: \", settings.GETTERS.get_title(f))\n",
    "                return True\n",
    "                f.close()\n",
    "                break\n",
    "            else:\n",
    "                f.close()\n",
    "                print(\"Song not found\")\n",
    "                return False\n",
    "    else:\n",
    "        print(\"Query not understood\")\n",
    "        return False"
   ]
  },
  {
   "cell_type": "code",
   "execution_count": null,
   "metadata": {},
   "outputs": [],
   "source": [
    "#Hi and Hello are currently recognised as NNP's\n",
    "def initialiseChat():\n",
    "    print(\"Hi, I am Name. You can ask anything that has to do with music!\")\n",
    "    time.sleep(.3)\n",
    "    inStr = posTagSentence(str(input()))\n",
    "    name = \"\"\n",
    "    for el in range (0, len(inStr)):\n",
    "        if inStr[el][1] == 'NNP':\n",
    "            name = \" \" + inStr[el][0]\n",
    "    print (\"Hello\" + name + \", What would you like to know?\")\n",
    "    continueChat()"
   ]
  },
  {
   "cell_type": "code",
   "execution_count": null,
   "metadata": {},
   "outputs": [],
   "source": [
    "def continueChat():\n",
    "    while True:\n",
    "        inStr = str(input())\n",
    "        if exitCheck(inStr.lower()):\n",
    "            print(\"Very well, I hope I could be of help.\")\n",
    "            break\n",
    "        elif inStr.lower() == \"yes\":\n",
    "            print(\"What would you like to know?\")\n",
    "        else:\n",
    "            posTagged = posTagSentence(inStr)\n",
    "            nerTagged = nerTagSentence(posTagged)\n",
    "            parse_string = ' '.join(str(nerTagged).split())\n",
    "            findSongToArtistQuery(parse_string)\n",
    "            print(\"Is there anything else I can help you with?\")"
   ]
  },
  {
   "cell_type": "code",
   "execution_count": null,
   "metadata": {},
   "outputs": [],
   "source": [
    "def exitCheck(inStr):\n",
    "    negatives = [\"no \", \"nope \", \"n\", \"no thanks\", \"bye\"]\n",
    "    for neg in negatives:\n",
    "        if inStr.startswith(neg):\n",
    "            return True\n",
    "    return False"
   ]
  },
  {
   "cell_type": "code",
   "execution_count": null,
   "metadata": {},
   "outputs": [],
   "source": [
    "if __name__ == \"__main__\":\n",
    "    initialiseChat()"
   ]
  }
 ],
 "metadata": {
  "kernelspec": {
   "display_name": "Python 3",
   "language": "python",
   "name": "python3"
  },
  "language_info": {
   "codemirror_mode": {
    "name": "ipython",
    "version": 3
   },
   "file_extension": ".py",
   "mimetype": "text/x-python",
   "name": "python",
   "nbconvert_exporter": "python",
   "pygments_lexer": "ipython3",
   "version": "3.6.4"
  }
 },
 "nbformat": 4,
 "nbformat_minor": 2
}
