{
 "cells": [
  {
   "cell_type": "code",
   "execution_count": 1,
   "metadata": {},
   "outputs": [],
   "source": [
    "import nltk\n",
    "import time"
   ]
  },
  {
   "cell_type": "code",
   "execution_count": 2,
   "metadata": {
    "scrolled": true
   },
   "outputs": [],
   "source": [
    "def tagSentence(inStr):\n",
    "    text = nltk.word_tokenize(inStr)\n",
    "    return nltk.pos_tag(text)"
   ]
  },
  {
   "cell_type": "code",
   "execution_count": 3,
   "metadata": {},
   "outputs": [],
   "source": [
    "#Hi and Hello are currently recognised as NNP's\n",
    "def initialiseChat():\n",
    "    print(\"Welcome to the Bowie music-chatbot. You can ask anything that has to do with music! Start your conversation by saying hello!\")\n",
    "    time.sleep(.3)\n",
    "    inStr = tagSentence(raw_input())\n",
    "    name = \"\"\n",
    "    for el in range (0, len(inStr)):\n",
    "        if inStr[el][1] == 'NNP':\n",
    "            name = \" \" + inStr[el][0]\n",
    "    print \"Hello\" + name + \", my name is Bowie. What would you like to know?\"\n",
    "    continueChat()\n",
    "    "
   ]
  },
  {
   "cell_type": "code",
   "execution_count": 4,
   "metadata": {},
   "outputs": [],
   "source": [
    "#exitCheck function should still be defined\n",
    "def continueChat():\n",
    "    while True:\n",
    "        inStr = raw_input()\n",
    "        if exitCheck(inStr.lower()):\n",
    "            print(\"Very well, I hope I could be of help.\")\n",
    "            break\n",
    "        else:\n",
    "            tagList = tagSentence(inStr)\n",
    "            print(detectQuestions(tagList))\n",
    "            print(\"Is there anything else I can help you with?\")\n",
    "        "
   ]
  },
  {
   "cell_type": "code",
   "execution_count": 5,
   "metadata": {},
   "outputs": [],
   "source": [
    "#Assumes inStr is already POS-tagged\n",
    "#Returns the predicate of what the question is about\n",
    "def detectQuestions(tagList):\n",
    "    start = 0\n",
    "    end = len(tagList)\n",
    "    for el in range(0, len(tagList)):\n",
    "        if tagList[el][1] == 'WP':\n",
    "            start = el + 1\n",
    "        if tagList[el][1] == '.' and tagList[el][0] == '?':\n",
    "            end = el\n",
    "    pred = tagList[start:end]\n",
    "    return pred"
   ]
  },
  {
   "cell_type": "code",
   "execution_count": 6,
   "metadata": {},
   "outputs": [],
   "source": [
    "def exitCheck(inStr):\n",
    "    negatives = [\"no\", \"nope\", \"n\", \"no thanks\", \"bye\"]\n",
    "    if inStr in negatives:\n",
    "        return True\n",
    "    else:\n",
    "        return False"
   ]
  },
  {
   "cell_type": "code",
   "execution_count": 7,
   "metadata": {},
   "outputs": [
    {
     "name": "stdout",
     "output_type": "stream",
     "text": [
      "Welcome to the Bowie music-chatbot. You can ask anything that has to do with music! Start your conversation by saying hello!\n",
      "Kkoen\n",
      "Hello Kkoen, my name is Bowie. What would you like to know?\n",
      "Niks\n",
      "[('Niks', 'NN')]\n",
      "Is there anything else I can help you with?\n",
      "nee\n",
      "[('nee', 'NN')]\n",
      "Is there anything else I can help you with?\n",
      "nope\n",
      "Very well, I hope I could be of help.\n"
     ]
    }
   ],
   "source": [
    "initialiseChat()"
   ]
  },
  {
   "cell_type": "code",
   "execution_count": null,
   "metadata": {},
   "outputs": [],
   "source": []
  }
 ],
 "metadata": {
  "kernelspec": {
   "display_name": "Python 2",
   "language": "python",
   "name": "python2"
  },
  "language_info": {
   "codemirror_mode": {
    "name": "ipython",
    "version": 2
   },
   "file_extension": ".py",
   "mimetype": "text/x-python",
   "name": "python",
   "nbconvert_exporter": "python",
   "pygments_lexer": "ipython2",
   "version": "2.7.14"
  }
 },
 "nbformat": 4,
 "nbformat_minor": 2
}
