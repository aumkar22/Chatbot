{
 "cells": [
  {
   "cell_type": "code",
   "execution_count": 1,
   "metadata": {},
   "outputs": [],
   "source": [
    "import nltk\n",
    "import time\n",
    "import re\n",
    "import os\n",
    "import sys\n",
    "import time\n",
    "import glob\n",
    "import numpy as np\n",
    "# import settings"
   ]
  },
  {
   "cell_type": "code",
   "execution_count": 2,
   "metadata": {},
   "outputs": [],
   "source": [
    "#h5 = settings.apply_to_all_files()"
   ]
  },
  {
   "cell_type": "code",
   "execution_count": 3,
   "metadata": {},
   "outputs": [],
   "source": [
    "# ROOT_DIR = os.path.normpath(os.path.join(os.path.dirname(os.path.realpath(__file__)), \"..\"))\n",
    "# DATA_DIR = os.path.join(ROOT_DIR, 'data')\n",
    "# ADD_DATA_DIR = os.path.join(ROOT_DIR, 'AdditionalFiles')\n",
    "# SUBSET_FILE = os.path.join(ADD_DATA_DIR, 'subset_msd_summary_file.h5')\n",
    "# MSD_CODE_PATH = os.path.join(ROOT_DIR, 'MSongsDB')\n",
    "# sys.path.append(os.path.join(MSD_CODE_PATH, 'PythonSrc'))"
   ]
  },
  {
   "cell_type": "code",
   "execution_count": 4,
   "metadata": {},
   "outputs": [],
   "source": [
    "# import hdf5_getters as GETTERS"
   ]
  },
  {
   "cell_type": "code",
   "execution_count": 5,
   "metadata": {
    "scrolled": true
   },
   "outputs": [],
   "source": [
    "def posTagSentence(inStr):\n",
    "    text = nltk.word_tokenize(inStr.lower())\n",
    "    return nltk.pos_tag(text)"
   ]
  },
  {
   "cell_type": "code",
   "execution_count": 6,
   "metadata": {},
   "outputs": [],
   "source": [
    "#Use this one to keep strings lowercase\n",
    "def nerTagSentence(tagList):\n",
    "    return (nltk.ne_chunk(tagList, binary=True))"
   ]
  },
  {
   "cell_type": "code",
   "execution_count": 7,
   "metadata": {},
   "outputs": [],
   "source": [
    "def findSongToArtistQuery(taggedStr):\n",
    "    #Regex for finding artist of a song\n",
    "    exStA = re.compile('((who.*)?((sang|made|sings)|(is.*(artist|singer|band).*(of|from|for))|\\\n",
    "                     ((what|which).*)?(artist|SINGER|band) ?(sang|made|of)?))')\n",
    "    #Regex for finding songs of an artist\n",
    "    exAtS = re.compile('(((what.*)|(which.*))?((song)s?.*?of.*?)|((song)s?.*?(did)))')\n",
    "    foundStA = re.search(exStA, taggedStr)\n",
    "    foundAtS = re.search(exAtS, taggedStr)\n",
    "    if foundStA is not None:\n",
    "        print(\"QUERY StA: \", re.sub(r'([^\\w\\s]|[A-Z])', '',taggedStr[foundStA.span()[1]:]).lstrip().rstrip().title())\n",
    "        return(re.sub(r'([^\\w\\s]|[A-Z])', '',taggedStr[foundStA.span()[1]:]).lstrip().rstrip())\n",
    "    elif foundAtS is not None:\n",
    "        print(\"QUERY AtS: \", (re.sub(r'((did|write|sing|make)|[^\\w\\s]|[A-Z])', '',taggedStr[foundAtS.span()[1]:]).lstrip().rstrip()))\n",
    "        return(re.sub(r'((did|write|sing|make)|[^\\w\\s]|[A-Z])', '',taggedStr[foundAtS.span()[1]:]).lstrip().rstrip().title())\n",
    "    else:\n",
    "        print(\"Query not understood\")\n",
    "        return False\n",
    "    "
   ]
  },
  {
   "cell_type": "code",
   "execution_count": 8,
   "metadata": {
    "scrolled": true
   },
   "outputs": [
    {
     "name": "stdout",
     "output_type": "stream",
     "text": [
      "QUERY AtS:  queen\n",
      "Found query:  Queen\n"
     ]
    }
   ],
   "source": [
    "text = \"What songs did Queen make?\"\n",
    "posTagged = posTagSentence(text)\n",
    "nerTagged = nerTagSentence(posTagged)\n",
    "parse_string = ' '.join(str(nerTagged).split())\n",
    "print(\"Found query: \", findSongToArtistQuery(parse_string))"
   ]
  },
  {
   "cell_type": "code",
   "execution_count": 9,
   "metadata": {},
   "outputs": [],
   "source": [
    "#Hi and Hello are currently recognised as NNP's\n",
    "def initialiseChat():\n",
    "    print(\"Hi, I am Name. You can ask anything that has to do with music!\")\n",
    "    time.sleep(.3)\n",
    "    inStr = posTagSentence(str(input()))\n",
    "    name = \"\"\n",
    "    for el in range (0, len(inStr)):\n",
    "        if inStr[el][1] == 'NNP':\n",
    "            name = \" \" + inStr[el][0]\n",
    "    print (\"Hello\" + name + \", What would you like to know?\")\n",
    "    continueChat()"
   ]
  },
  {
   "cell_type": "code",
   "execution_count": 10,
   "metadata": {},
   "outputs": [],
   "source": [
    "def continueChat():\n",
    "    while True:\n",
    "        inStr = str(input())\n",
    "        if exitCheck(inStr.lower()):\n",
    "            print(\"Very well, I hope I could be of help.\")\n",
    "            break\n",
    "        elif inStr.lower() == \"yes\":\n",
    "            print(\"What would you like to know?\")\n",
    "        else:\n",
    "            posTagged = posTagSentence(inStr)\n",
    "            nerTagged = nerTagSentence(posTagged)\n",
    "            parse_string = ' '.join(str(nerTagged).split())\n",
    "            findSongToArtistQuery(parse_string)\n",
    "            print(\"Is there anything else I can help you with?\")"
   ]
  },
  {
   "cell_type": "code",
   "execution_count": 11,
   "metadata": {},
   "outputs": [],
   "source": [
    "#Assumes inStr is already POS-tagged\n",
    "#Returns the predicate of what the question is about\n",
    "def detectQuestions(tagList):\n",
    "    start = 0\n",
    "    end = len(tagList)\n",
    "    for el in range(0, len(tagList)):\n",
    "        if tagList[el][1] == 'WP':\n",
    "            start = el + 1\n",
    "        if tagList[el][1] == '.' and tagList[el][0] == '?':\n",
    "            end = el\n",
    "    pred = tagList[start:end]\n",
    "    return pred"
   ]
  },
  {
   "cell_type": "code",
   "execution_count": 12,
   "metadata": {},
   "outputs": [],
   "source": [
    "def exitCheck(inStr):\n",
    "    negatives = [\"no \", \"nope \", \"n\", \"no thanks\", \"bye\"]\n",
    "    for neg in negatives:\n",
    "        if inStr.startswith(neg):\n",
    "            return True\n",
    "    return False"
   ]
  },
  {
   "cell_type": "code",
   "execution_count": 13,
   "metadata": {},
   "outputs": [
    {
     "name": "stdout",
     "output_type": "stream",
     "text": [
      "Hi, I am Name. You can ask anything that has to do with music!\n",
      "yeeeee\n",
      "Hello, What would you like to know?\n",
      "nothing\n",
      "Input:  nothing\n",
      "Very well, I hope I could be of help.\n"
     ]
    }
   ],
   "source": [
    "if __name__ == \"__main__\":\n",
    "    initialiseChat()"
   ]
  },
  {
   "cell_type": "code",
   "execution_count": null,
   "metadata": {},
   "outputs": [],
   "source": []
  }
 ],
 "metadata": {
  "kernelspec": {
   "display_name": "Python 3",
   "language": "python",
   "name": "python3"
  },
  "language_info": {
   "codemirror_mode": {
    "name": "ipython",
    "version": 3
   },
   "file_extension": ".py",
   "mimetype": "text/x-python",
   "name": "python",
   "nbconvert_exporter": "python",
   "pygments_lexer": "ipython3",
   "version": "3.6.4"
  }
 },
 "nbformat": 4,
 "nbformat_minor": 2
}
