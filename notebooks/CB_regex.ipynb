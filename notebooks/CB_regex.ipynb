{
 "cells": [
  {
   "cell_type": "code",
   "execution_count": 31,
   "metadata": {},
   "outputs": [],
   "source": [
    "import nltk\n",
    "import time\n",
    "import re"
   ]
  },
  {
   "cell_type": "code",
   "execution_count": 13,
   "metadata": {
    "scrolled": true
   },
   "outputs": [],
   "source": [
    "def posTagSentence(inStr):\n",
    "    text = nltk.word_tokenize(inStr)\n",
    "    return nltk.pos_tag(text)"
   ]
  },
  {
   "cell_type": "code",
   "execution_count": 21,
   "metadata": {},
   "outputs": [],
   "source": [
    "def nerTagSentence(tagList):\n",
    "    for el in range(0, len(tagList)):\n",
    "        if tagList[el][1] in ('JJ') or tagList[el][1] in ('NN'):\n",
    "            newTuple = (tagList[el][0].upper(), tagList[el][1])\n",
    "            tagList[el] = newTuple\n",
    "    return nltk.ne_chunk(tagList, binary = True)"
   ]
  },
  {
   "cell_type": "code",
   "execution_count": 22,
   "metadata": {},
   "outputs": [],
   "source": [
    "def nerTagSentence2(tagList):\n",
    "    return (nltk.ne_chunk(tagList, binary=True))"
   ]
  },
  {
   "cell_type": "code",
   "execution_count": 30,
   "metadata": {
    "scrolled": true
   },
   "outputs": [
    {
     "name": "stdout",
     "output_type": "stream",
     "text": [
      "(S\n",
      "  What/WP\n",
      "  is/VBZ\n",
      "  (NE DAVID/JJ)\n",
      "  (NE BOWIE/NN)\n",
      "  's/POS\n",
      "  most/RBS\n",
      "  POPULAR/JJ\n",
      "  (NE SONG/NN)\n",
      "  ?/.)\n",
      "<class 'nltk.tree.Tree'>\n",
      "(S What/WP is/VBZ (NE DAVID/JJ) (NE BOWIE/NN) 's/POS most/RBS POPULAR/JJ (NE SONG/NN) ?/.)\n"
     ]
    }
   ],
   "source": [
    "text = \"What is david bowie's most popular song?\"\n",
    "posTagged = posTagSentence(text)\n",
    "nerTagged = nerTagSentence(posTagged)\n",
    "print(nerTagged)\n",
    "print(type(nerTagged))\n",
    "parse_string = ' '.join(str(nerTagged).split())\n",
    "print(parse_string)"
   ]
  },
  {
   "cell_type": "code",
   "execution_count": 33,
   "metadata": {},
   "outputs": [],
   "source": [
    "def songRegex(taggedStr):\n",
    "    ex = re.compile('yes')\n",
    "    return ex.match(taggedStr)\n",
    "    "
   ]
  },
  {
   "cell_type": "code",
   "execution_count": 34,
   "metadata": {},
   "outputs": [
    {
     "name": "stdout",
     "output_type": "stream",
     "text": [
      "<_sre.SRE_Match object; span=(0, 3), match='yes'>\n"
     ]
    }
   ],
   "source": [
    "print(songRegex(\"yes\"))"
   ]
  },
  {
   "cell_type": "code",
   "execution_count": 7,
   "metadata": {},
   "outputs": [],
   "source": [
    "#Hi and Hello are currently recognised as NNP's\n",
    "def initialiseChat():\n",
    "    print(\"Welcome to the Bowie music-chatbot. You can ask anything that has to do with music! Start your conversation by saying hello!\")\n",
    "    time.sleep(.3)\n",
    "    inStr = posTagSentence(input())\n",
    "    name = \"\"\n",
    "    for el in range (0, len(inStr)):\n",
    "        if inStr[el][1] == 'NNP':\n",
    "            name = \" \" + inStr[el][0]\n",
    "    print (\"Hello\" + name + \", What would you like to know?\")\n",
    "    continueChat()\n",
    "    "
   ]
  },
  {
   "cell_type": "code",
   "execution_count": 8,
   "metadata": {},
   "outputs": [],
   "source": [
    "#exitCheck function should still be defined\n",
    "def continueChat():\n",
    "    while True:\n",
    "        inStr = input()\n",
    "        if exitCheck(inStr.lower()):\n",
    "            print(\"Very well, I hope I could be of help.\")\n",
    "            break\n",
    "        else:\n",
    "            tagList = posTagSentence(inStr)\n",
    "            print(detectQuestions(tagList))\n",
    "            print(\"Is there anything else I can help you with?\")\n",
    "        "
   ]
  },
  {
   "cell_type": "code",
   "execution_count": 9,
   "metadata": {},
   "outputs": [],
   "source": [
    "#Assumes inStr is already POS-tagged\n",
    "#Returns the predicate of what the question is about\n",
    "def detectQuestions(tagList):\n",
    "    start = 0\n",
    "    end = len(tagList)\n",
    "    for el in range(0, len(tagList)):\n",
    "        if tagList[el][1] == 'WP':\n",
    "            start = el + 1\n",
    "        if tagList[el][1] == '.' and tagList[el][0] == '?':\n",
    "            end = el\n",
    "    pred = tagList[start:end]\n",
    "    return pred"
   ]
  },
  {
   "cell_type": "code",
   "execution_count": 10,
   "metadata": {},
   "outputs": [],
   "source": [
    "def exitCheck(inStr):\n",
    "    negatives = [\"no\", \"nope\", \"n\", \"no thanks\", \"bye\"]\n",
    "    if inStr in negatives:\n",
    "        return True\n",
    "    else:\n",
    "        return False"
   ]
  },
  {
   "cell_type": "code",
   "execution_count": 11,
   "metadata": {},
   "outputs": [
    {
     "name": "stdout",
     "output_type": "stream",
     "text": [
      "Welcome to the Bowie music-chatbot. You can ask anything that has to do with music! Start your conversation by saying hello!\n",
      "poopie\n",
      "Hello, What would you like to know?\n",
      "who wrote to kill a mockingbird?\n",
      "[('wrote', 'VBD'), ('to', 'TO'), ('kill', 'VB'), ('a', 'DT'), ('mockingbird', 'NN')]\n",
      "Is there anything else I can help you with?\n",
      "no\n",
      "Very well, I hope I could be of help.\n"
     ]
    }
   ],
   "source": [
    "initialiseChat()"
   ]
  },
  {
   "cell_type": "code",
   "execution_count": null,
   "metadata": {},
   "outputs": [],
   "source": []
  }
 ],
 "metadata": {
  "kernelspec": {
   "display_name": "Python 3",
   "language": "python",
   "name": "python3"
  },
  "language_info": {
   "codemirror_mode": {
    "name": "ipython",
    "version": 3
   },
   "file_extension": ".py",
   "mimetype": "text/x-python",
   "name": "python",
   "nbconvert_exporter": "python",
   "pygments_lexer": "ipython3",
   "version": "3.6.4"
  }
 },
 "nbformat": 4,
 "nbformat_minor": 2
}
