{
 "cells": [
  {
   "cell_type": "code",
   "execution_count": 77,
   "metadata": {},
   "outputs": [],
   "source": [
    "import nltk\n",
    "import time\n",
    "import re"
   ]
  },
  {
   "cell_type": "code",
   "execution_count": 78,
   "metadata": {
    "scrolled": true
   },
   "outputs": [],
   "source": [
    "def posTagSentence(inStr):\n",
    "    text = nltk.word_tokenize(inStr.lower())\n",
    "    return nltk.pos_tag(text)"
   ]
  },
  {
   "cell_type": "code",
   "execution_count": 79,
   "metadata": {},
   "outputs": [],
   "source": [
    "def nerTagSentence(tagList):\n",
    "    for el in range(0, len(tagList)):\n",
    "        if tagList[el][1] in ('JJ') or tagList[el][1] in ('NN'):\n",
    "            newTuple = (tagList[el][0].upper(), tagList[el][1])\n",
    "            tagList[el] = newTuple\n",
    "    return nltk.ne_chunk(tagList, binary = True)"
   ]
  },
  {
   "cell_type": "code",
   "execution_count": 80,
   "metadata": {},
   "outputs": [],
   "source": [
    "#Use this one to keep strings lowercase\n",
    "def nerTagSentence2(tagList):\n",
    "    return (nltk.ne_chunk(tagList, binary=True))"
   ]
  },
  {
   "cell_type": "code",
   "execution_count": null,
   "metadata": {},
   "outputs": [],
   "source": [
    "def stripTags(inStr):\n",
    "    ex1 = re.sub(r'[^\\w]', ' ', s)"
   ]
  },
  {
   "cell_type": "code",
   "execution_count": 171,
   "metadata": {},
   "outputs": [],
   "source": [
    "def findSongToArtistQuery(taggedStr):\n",
    "    ex1 = re.compile('((who.*)?((sang|made)|(is.*(artist|singer|band).*of))|\\\n",
    "                     ((what|which).*)?(artist|SINGER|band) ?(sang|made|of)?)')\n",
    "    ex3 = re.compile('')\n",
    "    found = re.search(ex1, taggedStr)\n",
    "    print(found)\n",
    "    if found is not None:\n",
    "        print(taggedStr)\n",
    "        print(found.span())\n",
    "        print(taggedStr[found.span()[1]:])\n",
    "        return (re.sub(r'([^\\w\\s]|[A-Z])', '',taggedStr[found.span()[1]:])).lstrip().rstrip()\n",
    "    else:\n",
    "        return False\n",
    "    "
   ]
  },
  {
   "cell_type": "code",
   "execution_count": 172,
   "metadata": {
    "scrolled": true
   },
   "outputs": [
    {
     "name": "stdout",
     "output_type": "stream",
     "text": [
      "<_sre.SRE_Match object; span=(23, 27), match='sang'>\n",
      "(S which/WDT artist/NN sang/VBD the/DT blues/NNS clues/NNS)\n",
      "(23, 27)\n",
      "/VBD the/DT blues/NNS clues/NNS)\n"
     ]
    },
    {
     "data": {
      "text/plain": [
       "'the blues clues'"
      ]
     },
     "execution_count": 172,
     "metadata": {},
     "output_type": "execute_result"
    }
   ],
   "source": [
    "text = \"Which artist sang the blues clues\"\n",
    "posTagged = posTagSentence(text)\n",
    "nerTagged = nerTagSentence2(posTagged)\n",
    "# print(posTagged)\n",
    "parse_string = ' '.join(str(nerTagged).split())\n",
    "# print(parse_string)\n",
    "findSongToArtistQuery(parse_string)"
   ]
  },
  {
   "cell_type": "code",
   "execution_count": 14,
   "metadata": {},
   "outputs": [
    {
     "name": "stdout",
     "output_type": "stream",
     "text": [
      "None\n"
     ]
    }
   ],
   "source": [
    "\n",
    "print(findQueryType('(S Who/WP song/VBD never/RB gon/VBN na/TO give/VB you/PRP up/RP ?/.)'))\n",
    "if findQueryType('(S Who/WP song/VBD never/RB gon/VBN na/TO give/VB you/PRP up/RP ?/.)') is not None:\n",
    "    print(\"yeesh\")"
   ]
  },
  {
   "cell_type": "code",
   "execution_count": null,
   "metadata": {},
   "outputs": [],
   "source": [
    "#Hi and Hello are currently recognised as NNP's\n",
    "def initialiseChat():\n",
    "    print(\"Welcome to the music-chatbot. You can ask anything that has to do with music! Start your conversation by saying hello!\")\n",
    "    time.sleep(.3)\n",
    "    inStr = posTagSentence(input())\n",
    "    name = \"\"\n",
    "    for el in range (0, len(inStr)):\n",
    "        if inStr[el][1] == 'NNP':\n",
    "            name = \" \" + inStr[el][0]\n",
    "    print (\"Hello\" + name + \", What would you like to know?\")\n",
    "    continueChat()\n",
    "    "
   ]
  },
  {
   "cell_type": "code",
   "execution_count": null,
   "metadata": {},
   "outputs": [],
   "source": [
    "#exitCheck function should still be defined\n",
    "def continueChat():\n",
    "    while True:\n",
    "        inStr = input()\n",
    "        if exitCheck(inStr.lower()):\n",
    "            print(\"Very well, I hope I could be of help.\")\n",
    "            break\n",
    "        else:\n",
    "            tagList = posTagSentence(inStr)\n",
    "            print(detectQuestions(tagList))\n",
    "            print(\"Is there anything else I can help you with?\")\n",
    "        "
   ]
  },
  {
   "cell_type": "code",
   "execution_count": null,
   "metadata": {},
   "outputs": [],
   "source": [
    "#Assumes inStr is already POS-tagged\n",
    "#Returns the predicate of what the question is about\n",
    "def detectQuestions(tagList):\n",
    "    start = 0\n",
    "    end = len(tagList)\n",
    "    for el in range(0, len(tagList)):\n",
    "        if tagList[el][1] == 'WP':\n",
    "            start = el + 1\n",
    "        if tagList[el][1] == '.' and tagList[el][0] == '?':\n",
    "            end = el\n",
    "    pred = tagList[start:end]\n",
    "    return pred"
   ]
  },
  {
   "cell_type": "code",
   "execution_count": null,
   "metadata": {},
   "outputs": [],
   "source": [
    "def exitCheck(inStr):\n",
    "    negatives = [\"no\", \"nope\", \"n\", \"no thanks\", \"bye\"]\n",
    "    if inStr in negatives:\n",
    "        return True\n",
    "    else:\n",
    "        return False"
   ]
  },
  {
   "cell_type": "code",
   "execution_count": null,
   "metadata": {},
   "outputs": [],
   "source": [
    "initialiseChat()"
   ]
  },
  {
   "cell_type": "code",
   "execution_count": null,
   "metadata": {},
   "outputs": [],
   "source": []
  }
 ],
 "metadata": {
  "kernelspec": {
   "display_name": "Python 3",
   "language": "python",
   "name": "python3"
  },
  "language_info": {
   "codemirror_mode": {
    "name": "ipython",
    "version": 3
   },
   "file_extension": ".py",
   "mimetype": "text/x-python",
   "name": "python",
   "nbconvert_exporter": "python",
   "pygments_lexer": "ipython3",
   "version": "3.6.4"
  }
 },
 "nbformat": 4,
 "nbformat_minor": 2
}
